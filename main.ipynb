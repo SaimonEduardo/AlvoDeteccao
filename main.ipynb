{
 "cells": [
  {
   "cell_type": "code",
   "execution_count": null,
   "metadata": {},
   "outputs": [],
   "source": [
    "import cv2\n",
    "import numpy as np\n",
    "\n",
    "# Carrega o vídeo\n",
    "cap = cv2.VideoCapture('TesteVideo.mp4')\n",
    "\n",
    "while cap.isOpened():\n",
    "    # Lê cada quadro do vídeo\n",
    "    ret, frame = cap.read()\n",
    "    if not ret:\n",
    "        break\n",
    "    \n",
    "    # Converte o quadro para escala de cinza e aplica desfoque\n",
    "    gray = cv2.cvtColor(frame, cv2.COLOR_BGR2GRAY)\n",
    "    gray = cv2.medianBlur(gray, 5)\n",
    "    \n",
    "    # Detecta círculos no quadro com parâmetros ajustados\n",
    "    circles = cv2.HoughCircles(\n",
    "        gray,\n",
    "        cv2.HOUGH_GRADIENT,\n",
    "        dp=1.2,\n",
    "        minDist=50,         # Distância mínima entre os círculos\n",
    "        param1=50,          # Parâmetro do Canny\n",
    "        param2=50,          # Limiar mais alto para círculos mais \"confiáveis\"\n",
    "        minRadius=10,       # Raio mínimo\n",
    "        maxRadius=80        # Raio máximo\n",
    "    )\n",
    "    \n",
    "    # Verifica se algum círculo foi detectado\n",
    "    if circles is not None:\n",
    "        circles = np.round(circles[0, :]).astype(\"int\")\n",
    "        \n",
    "        # Desenha os círculos detectados no quadro\n",
    "        for (x, y, r) in circles:\n",
    "            cv2.circle(frame, (x, y), r, (0, 255, 0), 4)  # Contorno do círculo\n",
    "            cv2.circle(frame, (x, y), 2, (0, 0, 255), 3)  # Centro do círculo\n",
    "    \n",
    "    # Exibe o quadro com círculos detectados\n",
    "    cv2.imshow(\"Detected Circles in Video\", frame)\n",
    "    \n",
    "    # Sai do loop se a tecla 'q' for pressionada\n",
    "    if cv2.waitKey(1) & 0xFF == ord('q'):\n",
    "        break\n",
    "\n",
    "# Libera o vídeo e fecha todas as janelas\n",
    "cap.release()\n",
    "cv2.destroyAllWindows()\n"
   ]
  }
 ],
 "metadata": {
  "kernelspec": {
   "display_name": "Python 3",
   "language": "python",
   "name": "python3"
  },
  "language_info": {
   "codemirror_mode": {
    "name": "ipython",
    "version": 3
   },
   "file_extension": ".py",
   "mimetype": "text/x-python",
   "name": "python",
   "nbconvert_exporter": "python",
   "pygments_lexer": "ipython3",
   "version": "3.12.7"
  }
 },
 "nbformat": 4,
 "nbformat_minor": 2
}
